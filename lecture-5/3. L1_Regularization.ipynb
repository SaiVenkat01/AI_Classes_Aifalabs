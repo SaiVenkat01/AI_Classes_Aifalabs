{
 "cells": [
  {
   "cell_type": "markdown",
   "id": "32f532c3",
   "metadata": {},
   "source": [
    "\n",
    "# 🧠 Complete Numerical Walkthrough: L1 Regularization in Neural Networks\n",
    "\n",
    "This notebook demonstrates the mathematical flow of L1 regularization using a simplified example with a $( 2 \\times 2 )$ weight matrix.\n",
    "\n",
    "We will compute:\n",
    "1. The total loss with L1 penalty\n",
    "2. The combined gradients\n",
    "3. The updated weights after a gradient descent step\n",
    "\n",
    "---\n"
   ]
  },
  {
   "cell_type": "markdown",
   "id": "7c8f9cde",
   "metadata": {},
   "source": [
    "\n",
    "## 🧾 Initial Setup\n",
    "\n",
    "Given:\n",
    "- Weight matrix $( W \\in \\mathbb{R}^{2 \\times 2} )$\n",
    "- Regularization strength $( \\lambda = 0.01 )$\n",
    "- Learning rate $( \\eta = 0.1 )$\n",
    "- Base loss $( L = 0.52 )$\n",
    "- Gradient from base loss:\n",
    "\n",
    "$\n",
    "\\nabla L =\n",
    "\\begin{bmatrix}\n",
    "0.02 & -0.01 \\\\\n",
    "0.03 & -0.04\n",
    "\\end{bmatrix}\n",
    "$\n",
    "\n",
    "Weight matrix:\n",
    "\n",
    "$\n",
    "W =\n",
    "\\begin{bmatrix}\n",
    "0.8 & -0.3 \\\\\n",
    "0.0 & 0.5\n",
    "\\end{bmatrix}\n",
    "$\n"
   ]
  },
  {
   "cell_type": "markdown",
   "id": "99fe5176",
   "metadata": {},
   "source": [
    "\n",
    "## 📐 Step 1: Compute L1 Regularization Penalty\n",
    "\n",
    "$ \\sum |w_{ij}| = |0.8| + |-0.3| + |0.0| + |0.5| = 1.6 $\n"
   ]
  },
  {
   "cell_type": "markdown",
   "id": "72c9d42d",
   "metadata": {},
   "source": [
    "\n",
    "## 🔢 Step 2: Compute Total Loss with Regularization\n",
    "\n",
    "$\n",
    "L_{\\text{new}} = L + \\lambda \\sum |w_{ij}| = 0.52 + 0.01 \\times 1.6 = 0.536 $\n"
   ]
  },
  {
   "cell_type": "markdown",
   "id": "29285685",
   "metadata": {},
   "source": [
    "\n",
    "## 🔁 Step 3: Compute Total Gradient\n",
    "\n",
    "Gradient of the L1 penalty:\n",
    "\n",
    "$\n",
    "\\lambda \\cdot \\text{sign}(W) =\n",
    "0.01 \\cdot\n",
    "\\begin{bmatrix}\n",
    "1 & -1 \\\\\n",
    "0 & 1\n",
    "\\end{bmatrix}\n",
    "$\n",
    "$=$\n",
    "$\n",
    "\\begin{bmatrix}\n",
    "0.01 & -0.01 \\\\\n",
    "0.00 & 0.01\n",
    "\\end{bmatrix}\n",
    "$\n",
    "\n",
    "Total gradient:\n",
    "\n",
    "$\n",
    "\\nabla L_{\\text{new}} =\n",
    "\\begin{bmatrix}\n",
    "0.02 & -0.01 \\\\\n",
    "0.03 & -0.04\n",
    "\\end{bmatrix}\n",
    "$\n",
    "$+$\n",
    "$\n",
    "\\begin{bmatrix}\n",
    "0.01 & -0.01 \\\\\n",
    "0.00 & 0.01\n",
    "\\end{bmatrix}\n",
    "$\n",
    "$=$\n",
    "$\n",
    "\\begin{bmatrix}\n",
    "0.03 & -0.02 \\\\\n",
    "0.03 & -0.03\n",
    "\\end{bmatrix}\n",
    "$\n"
   ]
  },
  {
   "cell_type": "markdown",
   "id": "8449ed43",
   "metadata": {},
   "source": [
    "\n",
    "## ⬇️ Step 4: Perform Weight Update\n",
    "\n",
    "Using learning rate $( \\eta = 0.1 )$:\n",
    "\n",
    "$\n",
    "W_{\\text{new}} = W - \\eta \\cdot \\nabla L_{\\text{new}}\n",
    "$\n",
    "\n",
    "Gradient step:\n",
    "\n",
    "$\n",
    "0.1 \\cdot \\nabla L_{\\text{new}} =\n",
    "\\begin{bmatrix}\n",
    "0.003 & -0.002 \\\\\n",
    "0.003 & -0.003\n",
    "\\end{bmatrix}\n",
    "$\n",
    "\n",
    "Updated weights:\n",
    "\n",
    "$\n",
    "W_{\\text{new}} =\n",
    "\\begin{bmatrix}\n",
    "0.8 & -0.3 \\\\\n",
    "0.0 & 0.5\n",
    "\\end{bmatrix}\n",
    "$\n",
    "$-$\n",
    "$\n",
    "\\begin{bmatrix}\n",
    "0.003 & -0.002 \\\\\n",
    "0.003 & -0.003\n",
    "\\end{bmatrix}\n",
    "$\n",
    "$=$\n",
    "$\n",
    "\\begin{bmatrix}\n",
    "0.797 & -0.298 \\\\\n",
    "-0.003 & 0.503\n",
    "\\end{bmatrix}\n",
    "$\n"
   ]
  },
  {
   "cell_type": "markdown",
   "id": "271d8b14",
   "metadata": {},
   "source": [
    "\n",
    "## ✅ Summary Table\n",
    "\n",
    "| Component                        | Value / Matrix                                       |\n",
    "|----------------------------------|------------------------------------------------------|\n",
    "| Base Loss \\( L \\)               | 0.52                                                 |\n",
    "| L1 Penalty $\\sum w_{ij}$  | 1.6                                                  |\n",
    "| Regularized Loss $( L_{\\text{new}} )$ | 0.536                                            |\n",
    "| Gradient of base loss $ \\nabla L $ | $ \\begin{bmatrix} 0.02 & -0.01 \\\\ 0.03 & -0.04 \\end{bmatrix} $ |\n",
    "| Gradient of L1 penalty $ \\lambda \\cdot \\text{sign}(W) $ | $ \\begin{bmatrix} 0.01 & -0.01 \\\\ 0.00 & 0.01 \\end{bmatrix} $ |\n",
    "| Total Gradient $\\nabla L_{\\text{new}} $ | $\\begin{bmatrix} 0.03 & -0.02 \\\\ 0.03 & -0.03 \\end{bmatrix} $ |\n",
    "| Updated Weights $ W_{\\text{new}} $ | $ \\begin{bmatrix} 0.797 & -0.298 \\\\ -0.003 & 0.503 \\end{bmatrix} $ |\n"
   ]
  },
  {
   "cell_type": "markdown",
   "id": "263359da",
   "metadata": {},
   "source": [
    "\n",
    "---\n",
    "\n",
    "## 🔍 Key Insights\n",
    "\n",
    "- The regularized loss $ L_{\\text{new}} = 0.536 $ includes the penalty from L1, not just the prediction error.\n",
    "- The gradient used in the update step comes from $ L_{\\text{new}} $, including both prediction and regularization terms.\n",
    "- L1 regularization encourages **sparsity** by nudging weights toward zero.\n",
    "- The regularization effect is visible even in this small update step.\n",
    "\n",
    "---\n"
   ]
  },
  {
   "cell_type": "code",
   "execution_count": 1,
   "id": "bb70cd45",
   "metadata": {},
   "outputs": [],
   "source": [
    "import tensorflow as tf\n",
    "from tensorflow.keras import layers, models, regularizers\n",
    "import matplotlib.pyplot as plt\n",
    "from sklearn.metrics import classification_report\n",
    "import numpy as np\n",
    "import random"
   ]
  },
  {
   "cell_type": "markdown",
   "id": "a7443c01",
   "metadata": {},
   "source": [
    "## 📥 Load and Preprocess the MNIST Dataset"
   ]
  },
  {
   "cell_type": "code",
   "execution_count": 2,
   "id": "c0a9f5ea",
   "metadata": {},
   "outputs": [],
   "source": [
    "\n",
    "# Load the dataset\n",
    "(x_train, y_train), (x_test, y_test) = tf.keras.datasets.mnist.load_data()\n",
    "\n",
    "# Normalize pixel values to [0, 1]\n",
    "x_train = x_train / 255.0\n",
    "x_test = x_test / 255.0\n",
    "\n",
    "# Flatten the images for dense input\n",
    "x_train = x_train.reshape((-1, 28 * 28))\n",
    "x_test = x_test.reshape((-1, 28 * 28))\n",
    "\n",
    "# Split validation set from training data\n",
    "x_val = x_train[-10000:]\n",
    "y_val = y_train[-10000:]\n",
    "x_train = x_train[:-10000]\n",
    "y_train = y_train[:-10000]\n"
   ]
  },
  {
   "cell_type": "code",
   "execution_count": 3,
   "id": "537401c0",
   "metadata": {},
   "outputs": [],
   "source": [
    "\n",
    "# Take only 1000 training samples\n",
    "x_small_train = x_train[:300]\n",
    "y_small_train = y_train[:300]\n"
   ]
  },
  {
   "cell_type": "code",
   "execution_count": 4,
   "id": "d47b6928",
   "metadata": {},
   "outputs": [
    {
     "name": "stdout",
     "output_type": "stream",
     "text": [
      "[0 1 2 3 4 5 6 7 8 9] [34 39 28 34 32 23 29 29 21 31]\n"
     ]
    },
    {
     "data": {
      "image/png": "[encoded data removed]",
      "text/plain": [
       "<Figure size 800x500 with 1 Axes>"
      ]
     },
     "metadata": {},
     "output_type": "display_data"
    }
   ],
   "source": [
    "# Plot the bar chart\n",
    "classes, counts = np.unique(y_small_train, return_counts=True)\n",
    "print(classes, counts)\n",
    "plt.figure(figsize=(8, 5))\n",
    "plt.bar(classes, counts, tick_label=[str(c) for c in classes], color='skyblue')\n",
    "plt.title(\"Class Distribution (MNIST)\")\n",
    "plt.xlabel(\"Class Label\")\n",
    "plt.ylabel(\"Number of Samples\")\n",
    "plt.grid(axis='y')\n",
    "plt.show()"
   ]
  },
  {
   "cell_type": "markdown",
   "id": "175178d3",
   "metadata": {},
   "source": [
    "## 🏗️ Define a Neural Network with L1 Regularization"
   ]
  },
  {
   "cell_type": "code",
   "execution_count": 5,
   "id": "80951330",
   "metadata": {},
   "outputs": [],
   "source": [
    "\n",
    "# def create_model_l1(lambda_val=0.0005):\n",
    "#     model = models.Sequential([\n",
    "#         layers.Input(shape=(784,)),\n",
    "#         layers.Dense(128, activation='relu', kernel_regularizer=regularizers.l1(lambda_val)),\n",
    "#         layers.Dense(64, activation='relu', kernel_regularizer=regularizers.l1(lambda_val)),\n",
    "#         layers.Dense(10, activation='softmax')\n",
    "#     ])\n",
    "#     model.compile(optimizer='adam',\n",
    "#                   loss='sparse_categorical_crossentropy',\n",
    "#                   metrics=['accuracy'])\n",
    "#     return model\n",
    "\n",
    "# model = create_model_l1()\n",
    "\n",
    "\n",
    "def overfitting_model_l1(lambda_val=0.0005):\n",
    "    model = models.Sequential([\n",
    "    layers.Input(shape=(784,)),\n",
    "    layers.Dense(1024, activation='relu', kernel_regularizer=regularizers.l1(lambda_val)),\n",
    "    layers.Dense(512, activation='relu', kernel_regularizer=regularizers.l1(lambda_val)),\n",
    "    layers.Dense(256, activation='relu', kernel_regularizer=regularizers.l1(lambda_val)),\n",
    "    layers.Dense(128, activation='relu', kernel_regularizer=regularizers.l1(lambda_val)),\n",
    "    layers.Dense(10, activation='softmax')\n",
    "    ])\n",
    "    model.compile(optimizer='adam',\n",
    "                  loss='sparse_categorical_crossentropy',\n",
    "                  metrics=['accuracy'])\n",
    "    return model\n",
    "\n",
    "model = overfitting_model_l1()\n"
   ]
  },
  {
   "cell_type": "markdown",
   "id": "4b9ac523",
   "metadata": {},
   "source": [
    "## 🚂 Train the Model"
   ]
  },
  {
   "cell_type": "code",
   "execution_count": 6,
   "id": "bea6dd3e",
   "metadata": {},
   "outputs": [
    {
     "name": "stdout",
     "output_type": "stream",
     "text": [
      "Epoch 1/50\n",
      "391/391 - 13s - 34ms/step - accuracy: 0.8757 - loss: 4.0945 - val_accuracy: 0.9222 - val_loss: 1.3596\n",
      "Epoch 2/50\n",
      "391/391 - 12s - 31ms/step - accuracy: 0.9260 - loss: 1.0741 - val_accuracy: 0.9416 - val_loss: 0.8565\n",
      "Epoch 3/50\n",
      "391/391 - 12s - 29ms/step - accuracy: 0.9404 - loss: 0.7706 - val_accuracy: 0.9473 - val_loss: 0.6831\n",
      "Epoch 4/50\n",
      "391/391 - 11s - 29ms/step - accuracy: 0.9471 - loss: 0.6377 - val_accuracy: 0.9509 - val_loss: 0.5882\n",
      "Epoch 5/50\n",
      "391/391 - 11s - 29ms/step - accuracy: 0.9518 - loss: 0.5666 - val_accuracy: 0.9592 - val_loss: 0.5219\n",
      "Epoch 6/50\n",
      "391/391 - 11s - 29ms/step - accuracy: 0.9550 - loss: 0.5213 - val_accuracy: 0.9628 - val_loss: 0.4886\n",
      "Epoch 7/50\n",
      "391/391 - 11s - 29ms/step - accuracy: 0.9579 - loss: 0.4864 - val_accuracy: 0.9591 - val_loss: 0.4754\n",
      "Epoch 8/50\n",
      "391/391 - 11s - 29ms/step - accuracy: 0.9576 - loss: 0.4681 - val_accuracy: 0.9558 - val_loss: 0.4668\n",
      "Epoch 9/50\n",
      "391/391 - 11s - 29ms/step - accuracy: 0.9602 - loss: 0.4486 - val_accuracy: 0.9591 - val_loss: 0.4419\n",
      "Epoch 10/50\n",
      "391/391 - 11s - 29ms/step - accuracy: 0.9619 - loss: 0.4343 - val_accuracy: 0.9595 - val_loss: 0.4330\n",
      "Epoch 11/50\n",
      "391/391 - 11s - 29ms/step - accuracy: 0.9623 - loss: 0.4248 - val_accuracy: 0.9608 - val_loss: 0.4227\n",
      "Epoch 12/50\n",
      "391/391 - 11s - 29ms/step - accuracy: 0.9635 - loss: 0.4135 - val_accuracy: 0.9609 - val_loss: 0.4135\n",
      "Epoch 13/50\n",
      "391/391 - 21s - 54ms/step - accuracy: 0.9640 - loss: 0.4032 - val_accuracy: 0.9595 - val_loss: 0.4143\n",
      "Epoch 14/50\n",
      "391/391 - 11s - 29ms/step - accuracy: 0.9635 - loss: 0.3980 - val_accuracy: 0.9638 - val_loss: 0.3995\n",
      "Epoch 15/50\n",
      "391/391 - 11s - 28ms/step - accuracy: 0.9649 - loss: 0.3914 - val_accuracy: 0.9667 - val_loss: 0.3922\n",
      "Epoch 16/50\n",
      "391/391 - 11s - 28ms/step - accuracy: 0.9648 - loss: 0.3880 - val_accuracy: 0.9690 - val_loss: 0.3751\n",
      "Epoch 17/50\n",
      "391/391 - 11s - 29ms/step - accuracy: 0.9666 - loss: 0.3790 - val_accuracy: 0.9688 - val_loss: 0.3760\n",
      "Epoch 18/50\n",
      "391/391 - 11s - 28ms/step - accuracy: 0.9665 - loss: 0.3753 - val_accuracy: 0.9676 - val_loss: 0.3711\n",
      "Epoch 19/50\n",
      "391/391 - 11s - 28ms/step - accuracy: 0.9671 - loss: 0.3708 - val_accuracy: 0.9655 - val_loss: 0.3809\n",
      "Epoch 20/50\n",
      "391/391 - 11s - 28ms/step - accuracy: 0.9667 - loss: 0.3706 - val_accuracy: 0.9667 - val_loss: 0.3803\n",
      "Epoch 21/50\n",
      "391/391 - 11s - 28ms/step - accuracy: 0.9676 - loss: 0.3642 - val_accuracy: 0.9685 - val_loss: 0.3655\n",
      "Epoch 22/50\n",
      "391/391 - 11s - 28ms/step - accuracy: 0.9662 - loss: 0.3652 - val_accuracy: 0.9693 - val_loss: 0.3622\n",
      "Epoch 23/50\n",
      "391/391 - 11s - 28ms/step - accuracy: 0.9681 - loss: 0.3587 - val_accuracy: 0.9636 - val_loss: 0.3708\n",
      "Epoch 24/50\n",
      "391/391 - 11s - 28ms/step - accuracy: 0.9676 - loss: 0.3575 - val_accuracy: 0.9625 - val_loss: 0.3745\n",
      "Epoch 25/50\n",
      "391/391 - 11s - 27ms/step - accuracy: 0.9683 - loss: 0.3552 - val_accuracy: 0.9673 - val_loss: 0.3640\n",
      "Epoch 26/50\n",
      "391/391 - 13s - 32ms/step - accuracy: 0.9680 - loss: 0.3518 - val_accuracy: 0.9659 - val_loss: 0.3633\n",
      "Epoch 27/50\n",
      "391/391 - 17s - 44ms/step - accuracy: 0.9682 - loss: 0.3521 - val_accuracy: 0.9668 - val_loss: 0.3569\n",
      "Epoch 28/50\n",
      "391/391 - 17s - 43ms/step - accuracy: 0.9681 - loss: 0.3526 - val_accuracy: 0.9649 - val_loss: 0.3627\n",
      "Epoch 29/50\n",
      "391/391 - 18s - 45ms/step - accuracy: 0.9692 - loss: 0.3449 - val_accuracy: 0.9684 - val_loss: 0.3519\n",
      "Epoch 30/50\n",
      "391/391 - 18s - 47ms/step - accuracy: 0.9680 - loss: 0.3456 - val_accuracy: 0.9677 - val_loss: 0.3546\n",
      "Epoch 31/50\n",
      "391/391 - 17s - 43ms/step - accuracy: 0.9690 - loss: 0.3414 - val_accuracy: 0.9684 - val_loss: 0.3478\n",
      "Epoch 32/50\n",
      "391/391 - 17s - 42ms/step - accuracy: 0.9701 - loss: 0.3386 - val_accuracy: 0.9673 - val_loss: 0.3450\n",
      "Epoch 33/50\n",
      "391/391 - 17s - 43ms/step - accuracy: 0.9688 - loss: 0.3413 - val_accuracy: 0.9681 - val_loss: 0.3524\n",
      "Epoch 34/50\n",
      "391/391 - 19s - 48ms/step - accuracy: 0.9697 - loss: 0.3383 - val_accuracy: 0.9690 - val_loss: 0.3455\n",
      "Epoch 35/50\n",
      "391/391 - 19s - 48ms/step - accuracy: 0.9690 - loss: 0.3367 - val_accuracy: 0.9653 - val_loss: 0.3565\n",
      "Epoch 36/50\n",
      "391/391 - 16s - 42ms/step - accuracy: 0.9692 - loss: 0.3346 - val_accuracy: 0.9665 - val_loss: 0.3530\n",
      "Epoch 37/50\n",
      "391/391 - 17s - 43ms/step - accuracy: 0.9696 - loss: 0.3336 - val_accuracy: 0.9679 - val_loss: 0.3457\n",
      "Epoch 38/50\n",
      "391/391 - 17s - 44ms/step - accuracy: 0.9696 - loss: 0.3337 - val_accuracy: 0.9662 - val_loss: 0.3452\n",
      "Epoch 39/50\n",
      "391/391 - 16s - 40ms/step - accuracy: 0.9701 - loss: 0.3310 - val_accuracy: 0.9635 - val_loss: 0.3560\n",
      "Epoch 40/50\n",
      "391/391 - 17s - 43ms/step - accuracy: 0.9700 - loss: 0.3312 - val_accuracy: 0.9611 - val_loss: 0.3638\n",
      "Epoch 41/50\n",
      "391/391 - 17s - 44ms/step - accuracy: 0.9708 - loss: 0.3284 - val_accuracy: 0.9665 - val_loss: 0.3477\n",
      "Epoch 42/50\n",
      "391/391 - 17s - 43ms/step - accuracy: 0.9704 - loss: 0.3281 - val_accuracy: 0.9644 - val_loss: 0.3514\n",
      "Epoch 43/50\n",
      "391/391 - 17s - 43ms/step - accuracy: 0.9693 - loss: 0.3315 - val_accuracy: 0.9640 - val_loss: 0.3582\n",
      "Epoch 44/50\n",
      "391/391 - 17s - 43ms/step - accuracy: 0.9701 - loss: 0.3284 - val_accuracy: 0.9653 - val_loss: 0.3496\n",
      "Epoch 45/50\n",
      "391/391 - 16s - 41ms/step - accuracy: 0.9706 - loss: 0.3281 - val_accuracy: 0.9635 - val_loss: 0.3531\n",
      "Epoch 46/50\n",
      "391/391 - 17s - 43ms/step - accuracy: 0.9698 - loss: 0.3275 - val_accuracy: 0.9634 - val_loss: 0.3540\n",
      "Epoch 47/50\n",
      "391/391 - 17s - 43ms/step - accuracy: 0.9700 - loss: 0.3264 - val_accuracy: 0.9652 - val_loss: 0.3408\n",
      "Epoch 48/50\n",
      "391/391 - 16s - 41ms/step - accuracy: 0.9705 - loss: 0.3252 - val_accuracy: 0.9633 - val_loss: 0.3545\n",
      "Epoch 49/50\n",
      "391/391 - 17s - 43ms/step - accuracy: 0.9719 - loss: 0.3217 - val_accuracy: 0.9678 - val_loss: 0.3405\n",
      "Epoch 50/50\n",
      "391/391 - 18s - 45ms/step - accuracy: 0.9708 - loss: 0.3239 - val_accuracy: 0.9660 - val_loss: 0.3430\n"
     ]
    }
   ],
   "source": [
    "\n",
    "history = model.fit(\n",
    "    x_train, y_train,\n",
    "    epochs=50,\n",
    "    batch_size=128,\n",
    "    validation_data=(x_val, y_val),\n",
    "    verbose=2\n",
    ")\n"
   ]
  },
  {
   "cell_type": "markdown",
   "id": "3ad1a163",
   "metadata": {},
   "source": [
    "## 📊 Plot Training and Validation Curves"
   ]
  },
  {
   "cell_type": "code",
   "execution_count": 7,
   "id": "2d735751",
   "metadata": {},
   "outputs": [
    {
     "data": {
      "image/png": "[encoded data removed]",
      "text/plain": [
       "<Figure size 1400x500 with 2 Axes>"
      ]
     },
     "metadata": {},
     "output_type": "display_data"
    }
   ],
   "source": [
    "\n",
    "def plot_history(history):\n",
    "    plt.figure(figsize=(14, 5))\n",
    "\n",
    "    # Loss plot\n",
    "    plt.subplot(1, 2, 1)\n",
    "    plt.plot(history.history['loss'], label='Train Loss')\n",
    "    plt.plot(history.history['val_loss'], label='Val Loss')\n",
    "    plt.title('Loss Curve with L1 Regularization')\n",
    "    plt.xlabel('Epochs')\n",
    "    plt.ylabel('Loss')\n",
    "    plt.legend()\n",
    "\n",
    "    # Accuracy plot\n",
    "    plt.subplot(1, 2, 2)\n",
    "    plt.plot(history.history['accuracy'], label='Train Accuracy')\n",
    "    plt.plot(history.history['val_accuracy'], label='Val Accuracy')\n",
    "    plt.title('Accuracy Curve with L1 Regularization')\n",
    "    plt.xlabel('Epochs')\n",
    "    plt.ylabel('Accuracy')\n",
    "    plt.legend()\n",
    "\n",
    "    plt.tight_layout()\n",
    "    plt.show()\n",
    "\n",
    "plot_history(history)\n"
   ]
  },
  {
   "cell_type": "code",
   "execution_count": 8,
   "id": "f5afcf0b",
   "metadata": {},
   "outputs": [
    {
     "name": "stdout",
     "output_type": "stream",
     "text": [
      "\u001b[1m313/313\u001b[0m \u001b[32m━━━━━━━━━━━━━━━━━━━━\u001b[0m\u001b[37m\u001b[0m \u001b[1m2s\u001b[0m 6ms/step - accuracy: 0.9596 - loss: 0.3641\n",
      "[7 2 1 0 4 1 4 9 5 9]\n",
      "Accuracy: 0.9643, Loss: 0.3430\n",
      "\u001b[1m313/313\u001b[0m \u001b[32m━━━━━━━━━━━━━━━━━━━━\u001b[0m\u001b[37m\u001b[0m \u001b[1m1s\u001b[0m 3ms/step\n",
      "[7 2 1 0 4 1 4 9 6 9]\n",
      "Accuracy Report:\n",
      "               precision    recall  f1-score   support\n",
      "\n",
      "           0       0.98      0.98      0.98       980\n",
      "           1       0.98      0.99      0.98      1135\n",
      "           2       0.96      0.98      0.97      1032\n",
      "           3       0.98      0.94      0.96      1010\n",
      "           4       0.96      0.97      0.96       982\n",
      "           5       0.94      0.97      0.95       892\n",
      "           6       0.94      0.99      0.96       958\n",
      "           7       0.96      0.96      0.96      1028\n",
      "           8       0.97      0.94      0.96       974\n",
      "           9       0.97      0.93      0.95      1009\n",
      "\n",
      "    accuracy                           0.96     10000\n",
      "   macro avg       0.96      0.96      0.96     10000\n",
      "weighted avg       0.96      0.96      0.96     10000\n",
      "\n"
     ]
    }
   ],
   "source": [
    "# Evaluate\n",
    "loss, acc = model.evaluate(x_test, y_test, verbose=1)\n",
    "print(y_test[0:10])\n",
    "# Show results\n",
    "print(f\"Accuracy: {acc:.4f}, Loss: {loss:.4f}\")\n",
    "\n",
    "# Predict on test set\n",
    "y_pred = model.predict(x_test)\n",
    "\n",
    "# Convert predictions to class labels\n",
    "y_pred = np.argmax(y_pred, axis=1)\n",
    "print(y_pred[0:10])\n",
    "\n",
    "\n",
    "print(\"Accuracy Report:\\n\", classification_report(y_test, y_pred))"
   ]
  },
  {
   "cell_type": "markdown",
   "id": "144bef0c",
   "metadata": {},
   "source": [
    "\n",
    "## 🔍 Observation\n",
    "\n",
    "- L1 regularization introduces a penalty that prevents the weights from growing too large.\n",
    "- It encourages sparsity in the model, which helps reduce overfitting.\n",
    "- Try adjusting the value of `lambda_val` to see how the strength of regularization impacts performance.\n",
    "\n",
    "---\n"
   ]
  }
 ],
 "metadata": {
  "kernelspec": {
   "display_name": ".venv",
   "language": "python",
   "name": "python3"
  },
  "language_info": {
   "codemirror_mode": {
    "name": "ipython",
    "version": 3
   },
   "file_extension": ".py",
   "mimetype": "text/x-python",
   "name": "python",
   "nbconvert_exporter": "python",
   "pygments_lexer": "ipython3",
   "version": "3.10.2"
  }
 },
 "nbformat": 4,
 "nbformat_minor": 5
}
