{
 "cells": [
  {
   "cell_type": "code",
   "execution_count": 1,
   "metadata": {
    "executionInfo": {
     "elapsed": 6,
     "status": "ok",
     "timestamp": 1747368546231,
     "user": {
      "displayName": "Dr. Avinash Kumar Singh",
      "userId": "03688237427667000371"
     },
     "user_tz": -330
    },
    "id": "hDFKI8ZBIcw1"
   },
   "outputs": [],
   "source": [
    "import tensorflow as tf\n",
    "import numpy as np\n",
    "from tensorflow.keras.datasets import mnist\n",
    "from tensorflow.keras.utils import to_categorical\n",
    "from tensorflow.keras.models import Sequential\n",
    "from tensorflow.keras.layers import Dense, Flatten\n",
    "import matplotlib.pyplot as plt\n",
    "\n",
    "from sklearn.metrics import classification_report\n",
    "# Shuffle the dataset\n",
    "from sklearn.utils import shuffle\n"
   ]
  },
  {
   "cell_type": "code",
   "execution_count": 2,
   "metadata": {
    "executionInfo": {
     "elapsed": 344,
     "status": "ok",
     "timestamp": 1747368546577,
     "user": {
      "displayName": "Dr. Avinash Kumar Singh",
      "userId": "03688237427667000371"
     },
     "user_tz": -330
    },
    "id": "w5dufQBmIh0f"
   },
   "outputs": [],
   "source": [
    "# Load MNIST dataset\n",
    "(x_train, y_train), (x_test, y_test) = mnist.load_data()\n",
    "\n"
   ]
  },
  {
   "cell_type": "code",
   "execution_count": 3,
   "metadata": {
    "executionInfo": {
     "elapsed": 10,
     "status": "ok",
     "timestamp": 1747368546578,
     "user": {
      "displayName": "Dr. Avinash Kumar Singh",
      "userId": "03688237427667000371"
     },
     "user_tz": -330
    },
    "id": "AwIvEWeuIkTH"
   },
   "outputs": [],
   "source": [
    "# Flatten if needed (depends on model)\n",
    "# x_train = x_train.reshape(-1, 28*28).astype(\"float32\") / 255.0\n",
    "\n",
    "# Select majority classes (0–4)\n",
    "x_majority = x_train[y_train < 5]\n",
    "y_majority = y_train[y_train < 5]\n",
    "\n",
    "# Select minority classes (5–9), only 4000 samples\n",
    "x_minority = x_train[y_train >= 5][:3000]\n",
    "y_minority = y_train[y_train >= 5][:3000]\n",
    "\n",
    "# Combine the two\n",
    "x_train_imbalanced = np.concatenate([x_majority, x_minority], axis=0)\n",
    "y_train_imbalanced = np.concatenate([y_majority, y_minority], axis=0)\n",
    "\n",
    "\n",
    "x_train_imbalanced, y_train_imbalanced = shuffle(x_train_imbalanced, y_train_imbalanced, random_state=42)\n",
    "\n",
    "\n",
    "# One-hot encode labels\n",
    "y_train_cat = to_categorical(y_train_imbalanced, 10)\n",
    "y_test_cat = to_categorical(y_test, 10)\n",
    "\n"
   ]
  },
  {
   "cell_type": "code",
   "execution_count": 4,
   "metadata": {
    "colab": {
     "base_uri": "https://localhost:8080/",
     "height": 504
    },
    "executionInfo": {
     "elapsed": 154,
     "status": "ok",
     "timestamp": 1747368546733,
     "user": {
      "displayName": "Dr. Avinash Kumar Singh",
      "userId": "03688237427667000371"
     },
     "user_tz": -330
    },
    "id": "TkJBZy1eJQj_",
    "outputId": "0406959f-c866-4ff9-f705-911084aaeb77"
   },
   "outputs": [
    {
     "name": "stdout",
     "output_type": "stream",
     "text": [
      "[0 1 2 3 4 5 6 7 8 9] [5923 6742 5958 6131 5842  525  622  669  565  619]\n"
     ]
    },
    {
     "data": {
      "image/png": "[encoded data removed]",
      "text/plain": [
       "<Figure size 800x500 with 1 Axes>"
      ]
     },
     "metadata": {},
     "output_type": "display_data"
    }
   ],
   "source": [
    "# Plot the bar chart\n",
    "classes, counts = np.unique(y_train_imbalanced, return_counts=True)\n",
    "print(classes, counts)\n",
    "plt.figure(figsize=(8, 5))\n",
    "plt.bar(classes, counts, tick_label=[str(c) for c in classes], color='skyblue')\n",
    "plt.title(\"Imbalanced Class Distribution (Fashion MNIST)\")\n",
    "plt.xlabel(\"Class Label\")\n",
    "plt.ylabel(\"Number of Samples\")\n",
    "plt.grid(axis='y')\n",
    "plt.show()"
   ]
  },
  {
   "cell_type": "code",
   "execution_count": 5,
   "metadata": {
    "executionInfo": {
     "elapsed": 7,
     "status": "ok",
     "timestamp": 1747368546737,
     "user": {
      "displayName": "Dr. Avinash Kumar Singh",
      "userId": "03688237427667000371"
     },
     "user_tz": -330
    },
    "id": "8uJ3sGk7InQv"
   },
   "outputs": [],
   "source": [
    "# Focal Loss implementation\n",
    "def focal_loss(gamma=2.0, alpha=0.1):\n",
    "    def focal_loss_fixed(y_true, y_pred):\n",
    "        y_pred = tf.clip_by_value(y_pred, 1e-9, 1.0)\n",
    "        cross_entropy = -y_true * tf.math.log(y_pred)\n",
    "        weight = alpha * tf.math.pow(1 - y_pred, gamma)\n",
    "        loss = weight * cross_entropy\n",
    "        return tf.reduce_mean(tf.reduce_sum(loss, axis=1))\n",
    "    return focal_loss_fixed\n",
    "\n",
    "# Model architecture\n",
    "def create_model():\n",
    "    model = Sequential([\n",
    "        Flatten(input_shape=(28, 28)),\n",
    "        Dense(128, activation='relu'),\n",
    "        Dense(64, activation='relu'),\n",
    "        Dense(10, activation='softmax')\n",
    "    ])\n",
    "    return model\n",
    "\n"
   ]
  },
  {
   "cell_type": "code",
   "execution_count": 6,
   "metadata": {
    "colab": {
     "base_uri": "https://localhost:8080/"
    },
    "executionInfo": {
     "elapsed": 19939,
     "status": "ok",
     "timestamp": 1747368566674,
     "user": {
      "displayName": "Dr. Avinash Kumar Singh",
      "userId": "03688237427667000371"
     },
     "user_tz": -330
    },
    "id": "RsqRoizcIokc",
    "outputId": "f55a3b40-4f0b-4bef-df24-c094d6fcdd28"
   },
   "outputs": [
    {
     "name": "stdout",
     "output_type": "stream",
     "text": [
      "Epoch 1/20\n"
     ]
    },
    {
     "name": "stderr",
     "output_type": "stream",
     "text": [
      "d:\\Visual Studio Code\\AI_Classes_Aifalabs\\.venv\\lib\\site-packages\\keras\\src\\layers\\reshaping\\flatten.py:37: UserWarning: Do not pass an `input_shape`/`input_dim` argument to a layer. When using Sequential models, prefer using an `Input(shape)` object as the first layer in the model instead.\n",
      "  super().__init__(**kwargs)\n"
     ]
    },
    {
     "name": "stdout",
     "output_type": "stream",
     "text": [
      "\u001b[1m210/210\u001b[0m \u001b[32m━━━━━━━━━━━━━━━━━━━━\u001b[0m\u001b[37m\u001b[0m \u001b[1m2s\u001b[0m 4ms/step - accuracy: 0.4227 - loss: 1.1819 - val_accuracy: 0.6878 - val_loss: 0.6426\n",
      "Epoch 2/20\n",
      "\u001b[1m210/210\u001b[0m \u001b[32m━━━━━━━━━━━━━━━━━━━━\u001b[0m\u001b[37m\u001b[0m \u001b[1m1s\u001b[0m 4ms/step - accuracy: 0.6810 - loss: 0.6536 - val_accuracy: 0.7001 - val_loss: 0.6144\n",
      "Epoch 3/20\n",
      "\u001b[1m210/210\u001b[0m \u001b[32m━━━━━━━━━━━━━━━━━━━━\u001b[0m\u001b[37m\u001b[0m \u001b[1m1s\u001b[0m 5ms/step - accuracy: 0.7061 - loss: 0.6038 - val_accuracy: 0.7156 - val_loss: 0.5833\n",
      "Epoch 4/20\n",
      "\u001b[1m210/210\u001b[0m \u001b[32m━━━━━━━━━━━━━━━━━━━━\u001b[0m\u001b[37m\u001b[0m \u001b[1m1s\u001b[0m 3ms/step - accuracy: 0.7096 - loss: 0.5945 - val_accuracy: 0.7250 - val_loss: 0.5653\n",
      "Epoch 5/20\n",
      "\u001b[1m210/210\u001b[0m \u001b[32m━━━━━━━━━━━━━━━━━━━━\u001b[0m\u001b[37m\u001b[0m \u001b[1m1s\u001b[0m 3ms/step - accuracy: 0.7221 - loss: 0.5713 - val_accuracy: 0.7281 - val_loss: 0.5573\n",
      "Epoch 6/20\n",
      "\u001b[1m210/210\u001b[0m \u001b[32m━━━━━━━━━━━━━━━━━━━━\u001b[0m\u001b[37m\u001b[0m \u001b[1m1s\u001b[0m 3ms/step - accuracy: 0.7227 - loss: 0.5701 - val_accuracy: 0.7225 - val_loss: 0.5691\n",
      "Epoch 7/20\n",
      "\u001b[1m210/210\u001b[0m \u001b[32m━━━━━━━━━━━━━━━━━━━━\u001b[0m\u001b[37m\u001b[0m \u001b[1m1s\u001b[0m 3ms/step - accuracy: 0.7251 - loss: 0.5639 - val_accuracy: 0.7363 - val_loss: 0.5416\n",
      "Epoch 8/20\n",
      "\u001b[1m210/210\u001b[0m \u001b[32m━━━━━━━━━━━━━━━━━━━━\u001b[0m\u001b[37m\u001b[0m \u001b[1m1s\u001b[0m 3ms/step - accuracy: 0.7321 - loss: 0.5498 - val_accuracy: 0.7521 - val_loss: 0.5084\n",
      "Epoch 9/20\n",
      "\u001b[1m210/210\u001b[0m \u001b[32m━━━━━━━━━━━━━━━━━━━━\u001b[0m\u001b[37m\u001b[0m \u001b[1m1s\u001b[0m 4ms/step - accuracy: 0.7483 - loss: 0.5168 - val_accuracy: 0.7513 - val_loss: 0.5091\n",
      "Epoch 10/20\n",
      "\u001b[1m210/210\u001b[0m \u001b[32m━━━━━━━━━━━━━━━━━━━━\u001b[0m\u001b[37m\u001b[0m \u001b[1m1s\u001b[0m 3ms/step - accuracy: 0.7467 - loss: 0.5195 - val_accuracy: 0.7546 - val_loss: 0.5051\n",
      "Epoch 11/20\n",
      "\u001b[1m210/210\u001b[0m \u001b[32m━━━━━━━━━━━━━━━━━━━━\u001b[0m\u001b[37m\u001b[0m \u001b[1m1s\u001b[0m 3ms/step - accuracy: 0.7487 - loss: 0.5166 - val_accuracy: 0.7479 - val_loss: 0.5170\n",
      "Epoch 12/20\n",
      "\u001b[1m210/210\u001b[0m \u001b[32m━━━━━━━━━━━━━━━━━━━━\u001b[0m\u001b[37m\u001b[0m \u001b[1m1s\u001b[0m 3ms/step - accuracy: 0.7451 - loss: 0.5233 - val_accuracy: 0.7558 - val_loss: 0.5031\n",
      "Epoch 13/20\n",
      "\u001b[1m210/210\u001b[0m \u001b[32m━━━━━━━━━━━━━━━━━━━━\u001b[0m\u001b[37m\u001b[0m \u001b[1m1s\u001b[0m 3ms/step - accuracy: 0.7546 - loss: 0.5050 - val_accuracy: 0.7588 - val_loss: 0.4966\n",
      "Epoch 14/20\n",
      "\u001b[1m210/210\u001b[0m \u001b[32m━━━━━━━━━━━━━━━━━━━━\u001b[0m\u001b[37m\u001b[0m \u001b[1m1s\u001b[0m 3ms/step - accuracy: 0.7542 - loss: 0.5054 - val_accuracy: 0.7527 - val_loss: 0.5075\n",
      "Epoch 15/20\n",
      "\u001b[1m210/210\u001b[0m \u001b[32m━━━━━━━━━━━━━━━━━━━━\u001b[0m\u001b[37m\u001b[0m \u001b[1m1s\u001b[0m 3ms/step - accuracy: 0.7524 - loss: 0.5098 - val_accuracy: 0.7598 - val_loss: 0.4942\n",
      "Epoch 16/20\n",
      "\u001b[1m210/210\u001b[0m \u001b[32m━━━━━━━━━━━━━━━━━━━━\u001b[0m\u001b[37m\u001b[0m \u001b[1m1s\u001b[0m 3ms/step - accuracy: 0.7552 - loss: 0.5050 - val_accuracy: 0.7591 - val_loss: 0.4950\n",
      "Epoch 17/20\n",
      "\u001b[1m210/210\u001b[0m \u001b[32m━━━━━━━━━━━━━━━━━━━━\u001b[0m\u001b[37m\u001b[0m \u001b[1m1s\u001b[0m 3ms/step - accuracy: 0.7563 - loss: 0.5027 - val_accuracy: 0.7561 - val_loss: 0.5022\n",
      "Epoch 18/20\n",
      "\u001b[1m210/210\u001b[0m \u001b[32m━━━━━━━━━━━━━━━━━━━━\u001b[0m\u001b[37m\u001b[0m \u001b[1m1s\u001b[0m 3ms/step - accuracy: 0.7491 - loss: 0.5165 - val_accuracy: 0.7552 - val_loss: 0.5043\n",
      "Epoch 19/20\n",
      "\u001b[1m210/210\u001b[0m \u001b[32m━━━━━━━━━━━━━━━━━━━━\u001b[0m\u001b[37m\u001b[0m \u001b[1m1s\u001b[0m 3ms/step - accuracy: 0.7517 - loss: 0.5110 - val_accuracy: 0.7534 - val_loss: 0.5084\n",
      "Epoch 20/20\n",
      "\u001b[1m210/210\u001b[0m \u001b[32m━━━━━━━━━━━━━━━━━━━━\u001b[0m\u001b[37m\u001b[0m \u001b[1m1s\u001b[0m 3ms/step - accuracy: 0.7559 - loss: 0.5029 - val_accuracy: 0.7565 - val_loss: 0.5024\n"
     ]
    }
   ],
   "source": [
    "# Model with Focal Loss\n",
    "model_focal = create_model()\n",
    "model_focal.compile(optimizer='adam', loss=focal_loss(), metrics=['accuracy'])\n",
    "history_focal = model_focal.fit(x_train_imbalanced, y_train_cat, epochs=20, batch_size=128, validation_split=0.2, verbose=1)\n",
    "\n"
   ]
  },
  {
   "cell_type": "code",
   "execution_count": 7,
   "metadata": {
    "colab": {
     "base_uri": "https://localhost:8080/"
    },
    "executionInfo": {
     "elapsed": 2668,
     "status": "ok",
     "timestamp": 1747368569340,
     "user": {
      "displayName": "Dr. Avinash Kumar Singh",
      "userId": "03688237427667000371"
     },
     "user_tz": -330
    },
    "id": "varUU5MkIrVW",
    "outputId": "30ac6cdc-f51b-43bb-ac50-ccf7a8d8c369"
   },
   "outputs": [
    {
     "name": "stdout",
     "output_type": "stream",
     "text": [
      "\u001b[1m313/313\u001b[0m \u001b[32m━━━━━━━━━━━━━━━━━━━━\u001b[0m\u001b[37m\u001b[0m \u001b[1m0s\u001b[0m 1ms/step - accuracy: 0.6942 - loss: 0.6228\n",
      "Focal Loss              - Accuracy: 0.7122, Loss: 0.5886\n",
      "\u001b[1m313/313\u001b[0m \u001b[32m━━━━━━━━━━━━━━━━━━━━\u001b[0m\u001b[37m\u001b[0m \u001b[1m0s\u001b[0m 1ms/step\n",
      "Focal Loss Report:\n",
      "               precision    recall  f1-score   support\n",
      "\n",
      "           0       0.91      0.98      0.94       980\n",
      "           1       0.00      0.00      0.00      1135\n",
      "           2       0.58      0.99      0.73      1032\n",
      "           3       0.55      0.97      0.70      1010\n",
      "           4       0.53      0.96      0.69       982\n",
      "           5       0.93      0.81      0.87       892\n",
      "           6       0.97      0.88      0.92       958\n",
      "           7       0.87      0.83      0.85      1028\n",
      "           8       0.79      0.82      0.80       974\n",
      "           9       0.00      0.00      0.00      1009\n",
      "\n",
      "    accuracy                           0.71     10000\n",
      "   macro avg       0.61      0.72      0.65     10000\n",
      "weighted avg       0.60      0.71      0.64     10000\n",
      "\n"
     ]
    },
    {
     "name": "stderr",
     "output_type": "stream",
     "text": [
      "d:\\Visual Studio Code\\AI_Classes_Aifalabs\\.venv\\lib\\site-packages\\sklearn\\metrics\\_classification.py:1565: UndefinedMetricWarning: Precision is ill-defined and being set to 0.0 in labels with no predicted samples. Use `zero_division` parameter to control this behavior.\n",
      "  _warn_prf(average, modifier, f\"{metric.capitalize()} is\", len(result))\n",
      "d:\\Visual Studio Code\\AI_Classes_Aifalabs\\.venv\\lib\\site-packages\\sklearn\\metrics\\_classification.py:1565: UndefinedMetricWarning: Precision is ill-defined and being set to 0.0 in labels with no predicted samples. Use `zero_division` parameter to control this behavior.\n",
      "  _warn_prf(average, modifier, f\"{metric.capitalize()} is\", len(result))\n",
      "d:\\Visual Studio Code\\AI_Classes_Aifalabs\\.venv\\lib\\site-packages\\sklearn\\metrics\\_classification.py:1565: UndefinedMetricWarning: Precision is ill-defined and being set to 0.0 in labels with no predicted samples. Use `zero_division` parameter to control this behavior.\n",
      "  _warn_prf(average, modifier, f\"{metric.capitalize()} is\", len(result))\n"
     ]
    }
   ],
   "source": [
    "# Evaluate\n",
    "loss_focal, acc_focal = model_focal.evaluate(x_test, y_test_cat, verbose=1)\n",
    "\n",
    "# Show results\n",
    "print(f\"Focal Loss              - Accuracy: {acc_focal:.4f}, Loss: {loss_focal:.4f}\")\n",
    "\n",
    "# Predict on test set\n",
    "y_pred_focal = model_focal.predict(x_test)\n",
    "\n",
    "# Convert predictions to class labels\n",
    "y_pred_focal_cls = np.argmax(y_pred_focal, axis=1)\n",
    "y_true = np.argmax(y_test_cat, axis=1)\n",
    "\n",
    "print(\"Focal Loss Report:\\n\", classification_report(y_true, y_pred_focal_cls))"
   ]
  },
  {
   "cell_type": "code",
   "execution_count": null,
   "metadata": {
    "executionInfo": {
     "elapsed": 1,
     "status": "ok",
     "timestamp": 1747368569343,
     "user": {
      "displayName": "Dr. Avinash Kumar Singh",
      "userId": "03688237427667000371"
     },
     "user_tz": -330
    },
    "id": "9yrTW46tItRK"
   },
   "outputs": [],
   "source": []
  },
  {
   "cell_type": "code",
   "execution_count": null,
   "metadata": {
    "executionInfo": {
     "elapsed": 1,
     "status": "ok",
     "timestamp": 1747368569351,
     "user": {
      "displayName": "Dr. Avinash Kumar Singh",
      "userId": "03688237427667000371"
     },
     "user_tz": -330
    },
    "id": "7-gCE2ScJ-_B"
   },
   "outputs": [],
   "source": [
    "\n",
    "\n"
   ]
  }
 ],
 "metadata": {
  "accelerator": "GPU",
  "colab": {
   "authorship_tag": "ABX9TyPkGvFWlUIAkcGPv7KCA3qo",
   "gpuType": "T4",
   "provenance": []
  },
  "kernelspec": {
   "display_name": ".venv",
   "language": "python",
   "name": "python3"
  },
  "language_info": {
   "codemirror_mode": {
    "name": "ipython",
    "version": 3
   },
   "file_extension": ".py",
   "mimetype": "text/x-python",
   "name": "python",
   "nbconvert_exporter": "python",
   "pygments_lexer": "ipython3",
   "version": "3.10.2"
  }
 },
 "nbformat": 4,
 "nbformat_minor": 0
}
